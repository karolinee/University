{
 "cells": [
  {
   "cell_type": "code",
   "execution_count": 13,
   "metadata": {},
   "outputs": [],
   "source": [
    "using Polynomials\n",
    "using Printf"
   ]
  },
  {
   "cell_type": "code",
   "execution_count": 22,
   "metadata": {},
   "outputs": [
    {
     "name": "stdout",
     "output_type": "stream",
     "text": [
      "wsp = Array{Float64, 1}([1, 2, 3, 4, 5]) = [1.0, 2.0, 3.0, 4.0, 5.0]\n"
     ]
    },
    {
     "data": {
      "text/plain": [
       "4"
      ]
     },
     "execution_count": 22,
     "metadata": {},
     "output_type": "execute_result"
    }
   ],
   "source": [
    "@show wsp = Array{Float64,1}([1,2,3,4,5])\n",
    "pol = Poly(wsp)\n",
    "n = length(wsp)-1"
   ]
  },
  {
   "cell_type": "code",
   "execution_count": 12,
   "metadata": {},
   "outputs": [
    {
     "name": "stdout",
     "output_type": "stream",
     "text": [
      "(j, u, v, b[1], b[2]) = (1, -0.9721829325789725, 0.5924611032531828, 1.6795, 2.845)\n",
      "(j, u, v, b[1], b[2]) = (2, -0.7619638549761762, 0.26061852427623977, 10.006070123270797, -5.120194699675206)\n",
      "(j, u, v, b[1], b[2]) = (3, -0.8002299978070437, -0.1353715175235639, 2.9361992962042107, -1.1188196010846427)\n",
      "(j, u, v, b[1], b[2]) = (4, -1.0777103977068474, -0.43654818697893777, 0.5730590152062083, 0.14037101195948704)\n",
      "(j, u, v, b[1], b[2]) = (5, -1.0752619785436297, -0.4172394350173811, -0.1314569934125186, 0.11265408315861258)\n",
      "(j, u, v, b[1], b[2]) = (6, -1.0756647054847115, -0.41763158945859125, 0.0008254151620409322, 0.00039990242764076367)\n",
      "(j, u, v, b[1], b[2]) = (7, -1.0756645498059956, -0.41763147239675324, -5.7581862389355365e-8, -3.881938465122303e-7)\n",
      "(j, u, v, b[1], b[2]) = (8, -1.0756645498059798, -0.41763147239675213, 7.527312106958561e-14, -1.1157741397482823e-13)\n",
      "(j, u, v, b[1], b[2]) = (9, -1.0756645498059798, -0.4176314723967521, -4.440892098500626e-16, 4.440892098500626e-16)\n",
      "(j, u, v, b[1], b[2]) = (10, -1.0756645498059798, -0.4176314723967521, -2.220446049250313e-16, 3.3306690738754696e-16)\n",
      "roots(Poly([-v, -u, 1.0])) = Complex{Float64}[-0.5378322749029898 - 0.35828468634512783im, -0.5378322749029898 + 0.35828468634512783im]\n"
     ]
    },
    {
     "data": {
      "text/plain": [
       "2-element Array{Complex{Float64},1}:\n",
       " -0.5378322749029898 - 0.35828468634512783im\n",
       " -0.5378322749029898 + 0.35828468634512783im"
      ]
     },
     "execution_count": 12,
     "metadata": {},
     "output_type": "execute_result"
    }
   ],
   "source": [
    "maxiter = 10\n",
    "u,v = 0.1, 0.1\n",
    "\n",
    "b = zeros(Float64, size(wsp))\n",
    "b[n+1] = wsp[n+1]     # b_n     = a_n\n",
    "c = zeros(Float64, size(wsp))\n",
    "c[n+1] = 0.0        # c_n     = 0\n",
    "c[n]   = wsp[n+1]     # c_{n-1} = a_n\n",
    "\n",
    "for j = 1:maxiter\n",
    "    b[n] = wsp[n] + u*b[n+1]\n",
    "    for k=n-2:-1:0\n",
    "        b[k+1] = wsp[k+1] + u*b[k+2] + v*b[k+3]\n",
    "        c[k+1] = b[k+2] + u*c[k+2] + v*c[k+3]\n",
    "    end\n",
    "    J = c[1]*c[3] - c[2]*c[2]\n",
    "    u = u + (c[2]*b[2] - c[3]*b[1])/J\n",
    "    v = v + (c[2]*b[1] - c[1]*b[2])/J\n",
    "    @show j,u,v,b[1],b[2]\n",
    "end\n",
    "\n",
    "@show roots( Poly([-v,-u,1.0]) )"
   ]
  },
  {
   "cell_type": "code",
   "execution_count": 11,
   "metadata": {},
   "outputs": [
    {
     "data": {
      "text/plain": [
       "Bairstow (generic function with 1 method)"
      ]
     },
     "execution_count": 11,
     "metadata": {},
     "output_type": "execute_result"
    }
   ],
   "source": [
    "setprecision(128)\n",
    "function Bairstow(a::Vector{BigFloat}; maxiter=10)    \n",
    "    # maxiter = maksymalna liczba iteracji w metodzie Newtona\n",
    "    \n",
    "    function solve_quadratic_equation(a::BigFloat,b::BigFloat,c::BigFloat)\n",
    "        Δ=b*b-4.0*a*c;\n",
    "        x1,x2 = 0.0, 0.0;\n",
    "        \n",
    "        if (Δ>0.0)\n",
    "            sΔ = sqrt(Δ)\n",
    "            if (b>0.0)\n",
    "                x1 = (-b-sΔ)/(2.0*a)\n",
    "                x2 = c/x1\n",
    "            else\n",
    "                x2 = (-b+sΔ)/(2.0*a)\n",
    "                x1 = c/x2\n",
    "            end\n",
    "        elseif (Δ<0.0)\n",
    "            sΔ = sqrt(-Δ)\n",
    "            if (b>0.0)\n",
    "                x1 = (-b-sΔ*im)/(2.0*a)\n",
    "                x2 = c/x1\n",
    "            else\n",
    "                x2 = (-b+sΔ*im)/(2.0*a)\n",
    "                x1 = c/x2\n",
    "            end\n",
    "        else\n",
    "            x1 = -b/(2.0*a);\n",
    "            x2 = -b/(2.0*a);\n",
    "        end\n",
    "        return x1,x2;\n",
    "    end   \n",
    "    n = length(a)-1;\n",
    "    α = zeros( Complex{BigFloat}, n ); _i = 1;\n",
    "    while (n>1)\n",
    "        b = zeros(BigFloat, size(a))\n",
    "        b[n+1] = a[n+1]     # b_n     = a_n\n",
    "        c = zeros(BigFloat, size(a))\n",
    "        c[n+1] = 0.0        # c_n     = 0\n",
    "        c[n]   = a[n+1]     # c_{n-1} = a_n\n",
    "\n",
    "        u,v = 0.1, 0.1\n",
    "        for j = 1:maxiter\n",
    "            b[n] = a[n] + u*b[n+1]\n",
    "            for k=n-2:-1:0\n",
    "                b[k+1] = a[k+1] + u*b[k+2] + v*b[k+3]\n",
    "                c[k+1] = b[k+2] + u*c[k+2] + v*c[k+3]\n",
    "            end\n",
    "            J = c[1]*c[3] - c[2]*c[2]\n",
    "            u = u + (c[2]*b[2] - c[3]*b[1])/J\n",
    "            v = v + (c[2]*b[1] - c[1]*b[2])/J\n",
    "            j,u,v,b[1],b[2]\n",
    "        end\n",
    "        @show u, v\n",
    "        x1,x2 = solve_quadratic_equation(BigFloat(1.0),-u,-v)\n",
    "        α[_i] = x1; α[_i+1] = x2; _i = _i+2;\n",
    "        a = b[3:end]\n",
    "        n = n-2;\n",
    "    end\n",
    "    if (n==1)\n",
    "        α[_i] = -a[1]/a[2]\n",
    "    end\n",
    "    return α\n",
    "end"
   ]
  },
  {
   "cell_type": "code",
   "execution_count": 23,
   "metadata": {},
   "outputs": [
    {
     "data": {
      "text/plain": [
       "4-element Array{Complex{Float64},1}:\n",
       " -0.5378322749029902 - 0.35828468634512844im\n",
       " -0.5378322749029902 + 0.35828468634512844im\n",
       "  0.1378322749029901 - 0.6781543891053368im \n",
       "  0.1378322749029901 + 0.6781543891053368im "
      ]
     },
     "execution_count": 23,
     "metadata": {},
     "output_type": "execute_result"
    }
   ],
   "source": [
    "wyn2 = roots(pol)"
   ]
  },
  {
   "cell_type": "code",
   "execution_count": 20,
   "metadata": {},
   "outputs": [
    {
     "name": "stdout",
     "output_type": "stream",
     "text": [
      "(u, v) = (-1.075664549805979905974267542163423718713, -0.4176314723967521144504154844146490384603)\n",
      "(u, v) = (0.2756645498059799059742675421634237187123, -0.4788911114677653865455198933820164520456)\n",
      "-0.5378322749029900 + -0.3582846863451280im\n",
      "-0.5378322749029900 + 0.3582846863451280im\n",
      "0.1378322749029900 + -0.6781543891053364im\n",
      "0.1378322749029900 + 0.6781543891053364im\n"
     ]
    }
   ],
   "source": [
    "wyn = Bairstow(Array{BigFloat,1}([1,2,3,4,5]))\n",
    "\n",
    "for i = 1:4\n",
    "    @printf(\"%8.16f + %8.16fim vs %8.16f + %8.16fim\\\\n\",real(wyn[i]), imag(wyn[i]),real(wyn2[i]), imag(wyn2[i]))\n",
    "end\n"
   ]
  }
 ],
 "metadata": {
  "kernelspec": {
   "display_name": "Julia 1.2.0",
   "language": "julia",
   "name": "julia-1.2"
  },
  "language_info": {
   "file_extension": ".jl",
   "mimetype": "application/julia",
   "name": "julia",
   "version": "1.2.0"
  }
 },
 "nbformat": 4,
 "nbformat_minor": 2
}
