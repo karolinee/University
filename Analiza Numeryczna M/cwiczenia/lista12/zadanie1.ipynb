{
 "cells": [
  {
   "cell_type": "code",
   "execution_count": 16,
   "metadata": {},
   "outputs": [
    {
     "data": {
      "text/plain": [
       "Plots.PyPlotBackend()"
      ]
     },
     "execution_count": 16,
     "metadata": {},
     "output_type": "execute_result"
    }
   ],
   "source": [
    "using Plots\n",
    "pyplot()\n"
   ]
  },
  {
   "cell_type": "code",
   "execution_count": 8,
   "metadata": {},
   "outputs": [
    {
     "data": {
      "text/plain": [
       "romberg (generic function with 1 method)"
      ]
     },
     "execution_count": 8,
     "metadata": {},
     "output_type": "execute_result"
    }
   ],
   "source": [
    "function romberg(f,a,b,n)\n",
    "    h = (b - a) ./ (2 .^ (0:n-1));\n",
    "    r = zeros(n,n)\n",
    "    r[1,1] = (b - a) * (f(a) + f(b)) / 2;#pierwszy trapez\n",
    "    for j = 2:n\n",
    "        s = 0;\n",
    "        for i = 1:2^(j-2)#wykladniczo zwiekszamy ilosc wezlow\n",
    "            s += f(a + (2 * i - 1) * h[j]);\n",
    "        end\n",
    "        r[j,1] = r[j-1,1] / 2 + h[j] * s;\n",
    "        for k = 2:j#wzor reku na pozostale w wierszu\n",
    "            r[j,k] = (4^(k-1) * r[j,k-1] - r[j-1,k-1]) / (4^(k-1) - 1);\n",
    "        end\n",
    "    end\n",
    "    return r[end,end]\n",
    "end"
   ]
  },
  {
   "cell_type": "code",
   "execution_count": 14,
   "metadata": {},
   "outputs": [
    {
     "data": {
      "text/plain": [
       "Romebrg (generic function with 1 method)"
      ]
     },
     "execution_count": 14,
     "metadata": {},
     "output_type": "execute_result"
    }
   ],
   "source": [
    "function Romebrg(a, b, f, k)\n",
    "    h = (b-a)/2^k\n",
    "    X = Float64[]\n",
    "    n = 2^k\n",
    "    for i = 0:n\n",
    "        push!(X, (a + h*i))\n",
    "    end\n",
    "    values = (f.(X))\n",
    "    T = zeros(Float64,k+1)\n",
    "    for i = 0:k\n",
    "        T[i+1] = h * (sum(values[1:((2^i)+1)]) - (1/2)values[1] - (1/2)values[(2^i)+1])\n",
    "    end\n",
    "    for j = 1:k\n",
    "        for i = 0+j:k\n",
    "            T[i+1] = (4^i*T[i+1] - T[i])/(4^i - 1)\n",
    "        end\n",
    "    end\n",
    "    return T[end]\n",
    "end\n"
   ]
  },
  {
   "cell_type": "code",
   "execution_count": 5,
   "metadata": {},
   "outputs": [
    {
     "data": {
      "text/plain": [
       "c (generic function with 1 method)"
      ]
     },
     "execution_count": 5,
     "metadata": {},
     "output_type": "execute_result"
    }
   ],
   "source": [
    "function c(x)\n",
    "    if x > sqrt(3)/2\n",
    "        return 1/2\n",
    "    else\n",
    "        return sqrt(1-(x^2))\n",
    "    end\n",
    "end"
   ]
  },
  {
   "cell_type": "code",
   "execution_count": 15,
   "metadata": {},
   "outputs": [
    {
     "data": {
      "text/plain": [
       "0.13202002975064459"
      ]
     },
     "execution_count": 15,
     "metadata": {},
     "output_type": "execute_result"
    }
   ],
   "source": [
    "fi(x) = Romebrg(-c(x),c(x),y -> (sin(y)^2) * sqrt(1/(1 + x^2 + y^2)),10)\n",
    "Romebrg(-1,3,x -> (sin(x))^2 * fi(x),10)"
   ]
  },
  {
   "cell_type": "code",
   "execution_count": 17,
   "metadata": {},
   "outputs": [
    {
     "data": {
      "text/plain": [
       "0.45970087415221944"
      ]
     },
     "execution_count": 17,
     "metadata": {},
     "output_type": "execute_result"
    }
   ],
   "source": [
    "Romebrg(0,1,x -> sin(x),10)"
   ]
  },
  {
   "cell_type": "code",
   "execution_count": 12,
   "metadata": {},
   "outputs": [
    {
     "data": {
      "text/plain": [
       "0.13201683548781395"
      ]
     },
     "execution_count": 12,
     "metadata": {},
     "output_type": "execute_result"
    }
   ],
   "source": [
    "fi2(x,y) = sin(y)^2 * (1+x^2+y^2)^(-1/2)\n",
    "romberg(x -> sin(x)^2 * fi2(x),-1,3,10)"
   ]
  },
  {
   "cell_type": "code",
   "execution_count": 16,
   "metadata": {},
   "outputs": [
    {
     "data": {
      "text/plain": [
       "0.4596976941318604"
      ]
     },
     "execution_count": 16,
     "metadata": {},
     "output_type": "execute_result"
    }
   ],
   "source": [
    "romberg(x->sin(x), 0,1,10)"
   ]
  }
 ],
 "metadata": {
  "kernelspec": {
   "display_name": "Julia 1.2.0",
   "language": "julia",
   "name": "julia-1.2"
  },
  "language_info": {
   "file_extension": ".jl",
   "mimetype": "application/julia",
   "name": "julia",
   "version": "1.2.0"
  }
 },
 "nbformat": 4,
 "nbformat_minor": 2
}
